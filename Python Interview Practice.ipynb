{
 "cells": [
  {
   "cell_type": "code",
   "execution_count": 9,
   "id": "811ee70a",
   "metadata": {},
   "outputs": [
    {
     "data": {
      "text/plain": [
       "' hello '"
      ]
     },
     "execution_count": 9,
     "metadata": {},
     "output_type": "execute_result"
    }
   ],
   "source": [
    "x = \" hello \"\n",
    "x"
   ]
  },
  {
   "cell_type": "code",
   "execution_count": 11,
   "id": "3b03b868",
   "metadata": {},
   "outputs": [
    {
     "data": {
      "text/plain": [
       "'hello'"
      ]
     },
     "execution_count": 11,
     "metadata": {},
     "output_type": "execute_result"
    }
   ],
   "source": [
    "x = x.strip()   # It will removes all the spaces\n",
    "x"
   ]
  },
  {
   "cell_type": "code",
   "execution_count": 13,
   "id": "0666c879",
   "metadata": {},
   "outputs": [
    {
     "data": {
      "text/plain": [
       "'Hello'"
      ]
     },
     "execution_count": 13,
     "metadata": {},
     "output_type": "execute_result"
    }
   ],
   "source": [
    "x.capitalize()   # will perform only after strip "
   ]
  },
  {
   "cell_type": "code",
   "execution_count": 16,
   "id": "b3a95d29",
   "metadata": {},
   "outputs": [
    {
     "data": {
      "text/plain": [
       "'he**o'"
      ]
     },
     "execution_count": 16,
     "metadata": {},
     "output_type": "execute_result"
    }
   ],
   "source": [
    "x.replace(\"l\",\"*\", 2)"
   ]
  },
  {
   "cell_type": "code",
   "execution_count": 17,
   "id": "ee8c952f",
   "metadata": {},
   "outputs": [
    {
     "data": {
      "text/plain": [
       "'hellohello'"
      ]
     },
     "execution_count": 17,
     "metadata": {},
     "output_type": "execute_result"
    }
   ],
   "source": [
    "x*2"
   ]
  },
  {
   "cell_type": "code",
   "execution_count": 20,
   "id": "85e6945d",
   "metadata": {},
   "outputs": [],
   "source": [
    "#Lists - Mutable\n",
    "# Tuples - Imutable\n",
    "# Dictionaries - Mutable\n",
    "#Sets - Mutable"
   ]
  },
  {
   "cell_type": "markdown",
   "id": "5babeb09",
   "metadata": {},
   "source": [
    "### List"
   ]
  },
  {
   "cell_type": "code",
   "execution_count": 21,
   "id": "e30a2e4d",
   "metadata": {},
   "outputs": [],
   "source": [
    "x = list()"
   ]
  },
  {
   "cell_type": "code",
   "execution_count": 22,
   "id": "952d0e2f",
   "metadata": {},
   "outputs": [
    {
     "data": {
      "text/plain": [
       "list"
      ]
     },
     "execution_count": 22,
     "metadata": {},
     "output_type": "execute_result"
    }
   ],
   "source": [
    "type(x)"
   ]
  },
  {
   "cell_type": "code",
   "execution_count": 23,
   "id": "5414635d",
   "metadata": {},
   "outputs": [],
   "source": [
    "x = [1,2,3,44,32,1,23,\"hello\",\"hi\"]"
   ]
  },
  {
   "cell_type": "code",
   "execution_count": 24,
   "id": "3e02ebd5",
   "metadata": {},
   "outputs": [
    {
     "data": {
      "text/plain": [
       "list"
      ]
     },
     "execution_count": 24,
     "metadata": {},
     "output_type": "execute_result"
    }
   ],
   "source": [
    "type(x)"
   ]
  },
  {
   "cell_type": "code",
   "execution_count": 25,
   "id": "e8c9bed1",
   "metadata": {},
   "outputs": [
    {
     "data": {
      "text/plain": [
       "9"
      ]
     },
     "execution_count": 25,
     "metadata": {},
     "output_type": "execute_result"
    }
   ],
   "source": [
    "len(x)"
   ]
  },
  {
   "cell_type": "code",
   "execution_count": 27,
   "id": "36dd5cb2",
   "metadata": {},
   "outputs": [
    {
     "data": {
      "text/plain": [
       "['hi']"
      ]
     },
     "execution_count": 27,
     "metadata": {},
     "output_type": "execute_result"
    }
   ],
   "source": [
    "x[-1:]"
   ]
  },
  {
   "cell_type": "code",
   "execution_count": 28,
   "id": "d9f83ffb",
   "metadata": {},
   "outputs": [
    {
     "data": {
      "text/plain": [
       "'hi'"
      ]
     },
     "execution_count": 28,
     "metadata": {},
     "output_type": "execute_result"
    }
   ],
   "source": [
    "x[-1]"
   ]
  },
  {
   "cell_type": "code",
   "execution_count": 29,
   "id": "812b6e67",
   "metadata": {},
   "outputs": [
    {
     "data": {
      "text/plain": [
       "[23, 'hello']"
      ]
     },
     "execution_count": 29,
     "metadata": {},
     "output_type": "execute_result"
    }
   ],
   "source": [
    "x[-3:-1]"
   ]
  },
  {
   "cell_type": "code",
   "execution_count": 31,
   "id": "27f780f2",
   "metadata": {},
   "outputs": [
    {
     "data": {
      "text/plain": [
       "[1, 2, 3, 44, 32, 1, 23, 'hello', 'hi', 100, 100]"
      ]
     },
     "execution_count": 31,
     "metadata": {},
     "output_type": "execute_result"
    }
   ],
   "source": [
    "x.append(100)\n",
    "x"
   ]
  },
  {
   "cell_type": "code",
   "execution_count": 36,
   "id": "5f49095f",
   "metadata": {},
   "outputs": [],
   "source": [
    "x.insert(3,128)  # 3 is the location"
   ]
  },
  {
   "cell_type": "code",
   "execution_count": 46,
   "id": "be2ac930",
   "metadata": {},
   "outputs": [
    {
     "data": {
      "text/plain": [
       "[1, 2, 3, 128, 128, 44, 32, 1]"
      ]
     },
     "execution_count": 46,
     "metadata": {},
     "output_type": "execute_result"
    }
   ],
   "source": [
    "x"
   ]
  },
  {
   "cell_type": "code",
   "execution_count": 47,
   "id": "d9bbae13",
   "metadata": {},
   "outputs": [
    {
     "data": {
      "text/plain": [
       "1"
      ]
     },
     "execution_count": 47,
     "metadata": {},
     "output_type": "execute_result"
    }
   ],
   "source": [
    "x.pop()   # It will delete last item first (LIFO)"
   ]
  },
  {
   "cell_type": "code",
   "execution_count": 49,
   "id": "e2d8b8ab",
   "metadata": {},
   "outputs": [],
   "source": [
    "x.remove(32)"
   ]
  },
  {
   "cell_type": "code",
   "execution_count": 50,
   "id": "e3598360",
   "metadata": {},
   "outputs": [
    {
     "data": {
      "text/plain": [
       "[1, 2, 3, 128, 128, 44]"
      ]
     },
     "execution_count": 50,
     "metadata": {},
     "output_type": "execute_result"
    }
   ],
   "source": [
    "x"
   ]
  },
  {
   "cell_type": "code",
   "execution_count": 51,
   "id": "10e8ec16",
   "metadata": {},
   "outputs": [],
   "source": [
    "x.insert(1,10)\n",
    "x.insert(4,10)\n",
    "x.insert(6,10)"
   ]
  },
  {
   "cell_type": "code",
   "execution_count": 53,
   "id": "0eab2bad",
   "metadata": {},
   "outputs": [
    {
     "data": {
      "text/plain": [
       "[1, 10, 2, 3, 10, 128, 10, 128, 44]"
      ]
     },
     "execution_count": 53,
     "metadata": {},
     "output_type": "execute_result"
    }
   ],
   "source": [
    "x"
   ]
  },
  {
   "cell_type": "code",
   "execution_count": 55,
   "id": "c80cac9a",
   "metadata": {},
   "outputs": [
    {
     "data": {
      "text/plain": [
       "3"
      ]
     },
     "execution_count": 55,
     "metadata": {},
     "output_type": "execute_result"
    }
   ],
   "source": [
    "x.count(10)"
   ]
  },
  {
   "cell_type": "code",
   "execution_count": 57,
   "id": "6357263e",
   "metadata": {},
   "outputs": [
    {
     "data": {
      "text/plain": [
       "1"
      ]
     },
     "execution_count": 57,
     "metadata": {},
     "output_type": "execute_result"
    }
   ],
   "source": [
    "x.index(10)"
   ]
  },
  {
   "cell_type": "code",
   "execution_count": 58,
   "id": "6a3a9b95",
   "metadata": {},
   "outputs": [],
   "source": [
    "y=[\"a\",\"b\",\"c\"]"
   ]
  },
  {
   "cell_type": "code",
   "execution_count": 61,
   "id": "02abadce",
   "metadata": {},
   "outputs": [
    {
     "data": {
      "text/plain": [
       "[1, 10, 2, 3, 10, 128, 10, 128, 44, 'a', 'b', 'c']"
      ]
     },
     "execution_count": 61,
     "metadata": {},
     "output_type": "execute_result"
    }
   ],
   "source": [
    "z=x+y\n",
    "z"
   ]
  },
  {
   "cell_type": "code",
   "execution_count": 62,
   "id": "19cdbec2",
   "metadata": {},
   "outputs": [],
   "source": [
    "x.extend(y)"
   ]
  },
  {
   "cell_type": "code",
   "execution_count": 64,
   "id": "b661472d",
   "metadata": {},
   "outputs": [
    {
     "data": {
      "text/plain": [
       "[1, 10, 2, 3, 10, 128, 10, 128, 44, 'a', 'b', 'c']"
      ]
     },
     "execution_count": 64,
     "metadata": {},
     "output_type": "execute_result"
    }
   ],
   "source": [
    "x"
   ]
  },
  {
   "cell_type": "code",
   "execution_count": 68,
   "id": "0efbea81",
   "metadata": {},
   "outputs": [
    {
     "data": {
      "text/plain": [
       "['a',\n",
       " 'b',\n",
       " 'c',\n",
       " [1, 10, 2, 3, 10, 128, 10, 128, 44, 'a', 'b', 'c'],\n",
       " [1, 10, 2, 3, 10, 128, 10, 128, 44, 'a', 'b', 'c']]"
      ]
     },
     "execution_count": 68,
     "metadata": {},
     "output_type": "execute_result"
    }
   ],
   "source": [
    "y.append(x)\n",
    "y"
   ]
  },
  {
   "cell_type": "code",
   "execution_count": 69,
   "id": "3732e2b7",
   "metadata": {},
   "outputs": [
    {
     "data": {
      "text/plain": [
       "[1, 10, 2, 3, 10, 128, 10, 128, 44, 'a', 'b', 'c']"
      ]
     },
     "execution_count": 69,
     "metadata": {},
     "output_type": "execute_result"
    }
   ],
   "source": [
    "x"
   ]
  },
  {
   "cell_type": "code",
   "execution_count": 70,
   "id": "a2c07f72",
   "metadata": {},
   "outputs": [
    {
     "name": "stdout",
     "output_type": "stream",
     "text": [
      "10\n",
      "30\n"
     ]
    }
   ],
   "source": [
    "list1=[10,20,30,21,22]\n",
    "print(min(list1))\n",
    "print(max(list1))"
   ]
  },
  {
   "cell_type": "code",
   "execution_count": 71,
   "id": "b1416663",
   "metadata": {},
   "outputs": [
    {
     "name": "stdout",
     "output_type": "stream",
     "text": [
      "[10, 20, 30, 40, 'a', 'b', 'c']\n"
     ]
    }
   ],
   "source": [
    "list1=[10,20,30,40]\n",
    "list2=[\"a\",\"b\",\"c\"]\n",
    "list1.extend(list2)\n",
    "print(list1)"
   ]
  },
  {
   "cell_type": "code",
   "execution_count": 79,
   "id": "bfab422d",
   "metadata": {},
   "outputs": [
    {
     "name": "stdout",
     "output_type": "stream",
     "text": [
      "[10, 20, 30, 40, ['a', 'b', 'hello']]\n"
     ]
    }
   ],
   "source": [
    "list2=[10,20,30,40]\n",
    "list3=[\"a\",\"b\",\"hello\"]\n",
    "list2.append(list3)\n",
    "print(list2)         # It will calculate the list2 as a item"
   ]
  },
  {
   "cell_type": "code",
   "execution_count": 80,
   "id": "3311205d",
   "metadata": {},
   "outputs": [
    {
     "data": {
      "text/plain": [
       "'b'"
      ]
     },
     "execution_count": 80,
     "metadata": {},
     "output_type": "execute_result"
    }
   ],
   "source": [
    "list2[4][1]     #Nested Indexing"
   ]
  },
  {
   "cell_type": "code",
   "execution_count": 82,
   "id": "9233be7f",
   "metadata": {},
   "outputs": [
    {
     "data": {
      "text/plain": [
       "'l'"
      ]
     },
     "execution_count": 82,
     "metadata": {},
     "output_type": "execute_result"
    }
   ],
   "source": [
    "list2[4][2][3]    "
   ]
  },
  {
   "cell_type": "code",
   "execution_count": 83,
   "id": "47fda3aa",
   "metadata": {},
   "outputs": [],
   "source": [
    "list2.append(\"hello\")"
   ]
  },
  {
   "cell_type": "code",
   "execution_count": 84,
   "id": "2eb9c77c",
   "metadata": {},
   "outputs": [
    {
     "data": {
      "text/plain": [
       "[10, 20, 30, 40, ['a', 'b', 'hello'], 'hello']"
      ]
     },
     "execution_count": 84,
     "metadata": {},
     "output_type": "execute_result"
    }
   ],
   "source": [
    "list2"
   ]
  },
  {
   "cell_type": "code",
   "execution_count": 89,
   "id": "d716626c",
   "metadata": {},
   "outputs": [],
   "source": [
    "list2.append(100)\n",
    "list2.append(100)\n",
    "list2.insert(2,100)"
   ]
  },
  {
   "cell_type": "code",
   "execution_count": 90,
   "id": "667eb25d",
   "metadata": {},
   "outputs": [
    {
     "data": {
      "text/plain": [
       "[10, 20, 100, 30, 40, ['a', 'b', 'hello'], 'hello', 100, 100, 100]"
      ]
     },
     "execution_count": 90,
     "metadata": {},
     "output_type": "execute_result"
    }
   ],
   "source": [
    "list2"
   ]
  },
  {
   "cell_type": "code",
   "execution_count": 94,
   "id": "33671dbc",
   "metadata": {},
   "outputs": [
    {
     "data": {
      "text/plain": [
       "3"
      ]
     },
     "execution_count": 94,
     "metadata": {},
     "output_type": "execute_result"
    }
   ],
   "source": [
    "list2.count(100)"
   ]
  },
  {
   "cell_type": "code",
   "execution_count": null,
   "id": "37a1d995",
   "metadata": {},
   "outputs": [],
   "source": []
  }
 ],
 "metadata": {
  "kernelspec": {
   "display_name": "Python 3 (ipykernel)",
   "language": "python",
   "name": "python3"
  },
  "language_info": {
   "codemirror_mode": {
    "name": "ipython",
    "version": 3
   },
   "file_extension": ".py",
   "mimetype": "text/x-python",
   "name": "python",
   "nbconvert_exporter": "python",
   "pygments_lexer": "ipython3",
   "version": "3.9.7"
  }
 },
 "nbformat": 4,
 "nbformat_minor": 5
}
